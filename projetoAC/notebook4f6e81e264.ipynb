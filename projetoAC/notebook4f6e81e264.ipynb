{
 "cells": [
  {
   "cell_type": "markdown",
   "metadata": {},
   "source": [
    "<div style=\"border-width:1; border-radius: 15px; border-style: solid; border-color: rgb(10, 10, 10); background-color: #2b6777; color:#ffffff;text-align: center;font: 14pt 'Candara';font-weight:bold;\"><h1>Airline passenger satisfaction (Part 1)</h1></div>"
   ]
  },
  {
   "cell_type": "markdown",
   "metadata": {},
   "source": [
    "<center><a><img src=\"https://apartmentinteriors.ru/wp-content/uploads/samolot-charter-private-jet-charter-02.jpg\" border=\"3\" width=800 height=600 class=\"center\"></a>"
   ]
  },
  {
   "cell_type": "markdown",
   "metadata": {},
   "source": [
    "<div style=\"border-width:1; border-radius: 15px; border-style: solid; border-color: rgb(10, 10, 10); background-color: #52ab98; text-align: center;font: 14pt 'Candara';font-weight:bold;\"><h1>Task description</h1></div>"
   ]
  },
  {
   "cell_type": "markdown",
   "metadata": {},
   "source": [
    "**There is the following information about the passengers of some airline:**\n",
    "\n",
    "1. **Gender:** male or female\n",
    "2. **Customer type:** regular or non-regular airline customer\n",
    "3. **Age:** the actual age of the passenger\n",
    "4. **Type of travel:** the purpose of the passenger's flight (personal or business travel)\n",
    "5. **Class:** business, economy, economy plus\n",
    "6. **Flight distance**\n",
    "7. **Inflight wifi service:** satisfaction level with Wi-Fi service on board (0: not rated; 1-5)\n",
    "8. **Departure/Arrival time convenient:** departure/arrival time satisfaction level (0: not rated; 1-5)\n",
    "9. **Ease of Online booking:** online booking satisfaction rate (0: not rated; 1-5)\n",
    "10. **Gate location:** level of satisfaction with the gate location (0: not rated; 1-5)\n",
    "11. **Food and drink:** food and drink satisfaction level (0: not rated; 1-5)\n",
    "12. **Online boarding:** satisfaction level with online boarding (0: not rated; 1-5)\n",
    "13. **Seat comfort:** seat satisfaction level (0: not rated; 1-5)\n",
    "14. **Inflight entertainment:** satisfaction with inflight entertainment (0: not rated; 1-5)\n",
    "15. **On-board service:** level of satisfaction with on-board service (0: not rated; 1-5)\n",
    "16. **Leg room service**: level of satisfaction with leg room service (0: not rated; 1-5)\n",
    "17. **Baggage handling:** level of satisfaction with baggage handling (0: not rated; 1-5)\n",
    "18. **Checkin service:** level of satisfaction with checkin service (0: not rated; 1-5)\n",
    "19. **Inflight service:** level of satisfaction with inflight service (0: not rated; 1-5)\n",
    "20. **Cleanliness:** level of satisfaction with cleanliness (0: not rated; 1-5)\n",
    "21. **Departure delay in minutes**\n",
    "22. **Arrival delay in minutes**\n",
    "\n",
    "This data set contains a survey on <b>air passenger satisfaction</b>. The following <b>classification problem</b> is set:\n",
    "\n",
    "It is necessary to predict which of the <b>two</b> levels of satisfaction with the airline the passenger belongs to:\n",
    "<ol>\n",
    "    <li><em>Satisfaction</em></li>\n",
    "    <li><em>Neutral or dissatisfied</em></li>\n",
    "</ol>"
   ]
  },
  {
   "cell_type": "markdown",
   "metadata": {},
   "source": [
    "<div style=\"border-width:1; border-radius: 15px; border-style: solid; border-color: rgb(10, 10, 10); background-color: #52ab98; text-align: center;font: 14pt 'Candara';font-weight:bold;\"><h1>Installation scikit-learn-intelex</h1></div>"
   ]
  },
  {
   "cell_type": "code",
   "execution_count": null,
   "metadata": {
    "execution": {
     "iopub.execute_input": "2022-08-08T09:36:42.093404Z",
     "iopub.status.busy": "2022-08-08T09:36:42.09304Z",
     "iopub.status.idle": "2022-08-08T09:37:36.658763Z",
     "shell.execute_reply": "2022-08-08T09:37:36.657202Z",
     "shell.execute_reply.started": "2022-08-08T09:36:42.093313Z"
    },
    "trusted": true
   },
   "outputs": [],
   "source": [
    "!pip install scikit-learn-intelex"
   ]
  },
  {
   "cell_type": "code",
   "execution_count": null,
   "metadata": {
    "execution": {
     "iopub.execute_input": "2022-08-08T09:37:49.962007Z",
     "iopub.status.busy": "2022-08-08T09:37:49.961611Z",
     "iopub.status.idle": "2022-08-08T09:37:51.648864Z",
     "shell.execute_reply": "2022-08-08T09:37:51.647839Z",
     "shell.execute_reply.started": "2022-08-08T09:37:49.96196Z"
    },
    "trusted": true
   },
   "outputs": [],
   "source": [
    "from sklearnex import patch_sklearn\n",
    "patch_sklearn()"
   ]
  },
  {
   "cell_type": "markdown",
   "metadata": {},
   "source": [
    "<div style=\"border-width:1; border-radius: 15px; border-style: solid; border-color: rgb(10, 10, 10); background-color: #52ab98; text-align: center;font: 14pt 'Candara';font-weight:bold;\"><h1>Reading data</h1></div>"
   ]
  },
  {
   "cell_type": "code",
   "execution_count": 2,
   "metadata": {
    "execution": {
     "iopub.execute_input": "2022-08-08T09:38:03.752623Z",
     "iopub.status.busy": "2022-08-08T09:38:03.752019Z",
     "iopub.status.idle": "2022-08-08T09:38:03.908687Z",
     "shell.execute_reply": "2022-08-08T09:38:03.907432Z",
     "shell.execute_reply.started": "2022-08-08T09:38:03.752585Z"
    },
    "trusted": true
   },
   "outputs": [],
   "source": [
    "import numpy as np\n",
    "import matplotlib.pyplot as plt\n",
    "import pandas as pd\n",
    "import seaborn as sns\n",
    "import sklearn\n",
    "from sklearn.neighbors import KNeighborsClassifier\n",
    "from sklearn.model_selection import GridSearchCV\n",
    "from sklearn.svm import SVC\n",
    "from sklearn import ensemble\n",
    "from sklearn.neural_network import MLPClassifier\n",
    "from sklearn.metrics import accuracy_score\n",
    "import warnings\n",
    "warnings.filterwarnings(\"ignore\")\n",
    "%matplotlib inline"
   ]
  },
  {
   "cell_type": "code",
   "execution_count": 3,
   "metadata": {
    "execution": {
     "iopub.execute_input": "2022-08-08T09:38:04.468786Z",
     "iopub.status.busy": "2022-08-08T09:38:04.468482Z",
     "iopub.status.idle": "2022-08-08T09:38:04.941655Z",
     "shell.execute_reply": "2022-08-08T09:38:04.938724Z",
     "shell.execute_reply.started": "2022-08-08T09:38:04.468753Z"
    },
    "trusted": true
   },
   "outputs": [
    {
     "ename": "FileNotFoundError",
     "evalue": "[Errno 2] No such file or directory: '/kaggle/input/airline-passenger-satisfaction/train.csv'",
     "output_type": "error",
     "traceback": [
      "\u001b[0;31m---------------------------------------------------------------------------\u001b[0m",
      "\u001b[0;31mFileNotFoundError\u001b[0m                         Traceback (most recent call last)",
      "Cell \u001b[0;32mIn[3], line 1\u001b[0m\n\u001b[0;32m----> 1\u001b[0m data \u001b[38;5;241m=\u001b[39m \u001b[43mpd\u001b[49m\u001b[38;5;241;43m.\u001b[39;49m\u001b[43mread_csv\u001b[49m\u001b[43m(\u001b[49m\u001b[38;5;124;43m\"\u001b[39;49m\u001b[38;5;124;43m/kaggle/input/airline-passenger-satisfaction/train.csv\u001b[39;49m\u001b[38;5;124;43m\"\u001b[39;49m\u001b[43m)\u001b[49m\n",
      "File \u001b[0;32m~/Documents/UC/AC/teste/lib/python3.13/site-packages/pandas/io/parsers/readers.py:1026\u001b[0m, in \u001b[0;36mread_csv\u001b[0;34m(filepath_or_buffer, sep, delimiter, header, names, index_col, usecols, dtype, engine, converters, true_values, false_values, skipinitialspace, skiprows, skipfooter, nrows, na_values, keep_default_na, na_filter, verbose, skip_blank_lines, parse_dates, infer_datetime_format, keep_date_col, date_parser, date_format, dayfirst, cache_dates, iterator, chunksize, compression, thousands, decimal, lineterminator, quotechar, quoting, doublequote, escapechar, comment, encoding, encoding_errors, dialect, on_bad_lines, delim_whitespace, low_memory, memory_map, float_precision, storage_options, dtype_backend)\u001b[0m\n\u001b[1;32m   1013\u001b[0m kwds_defaults \u001b[38;5;241m=\u001b[39m _refine_defaults_read(\n\u001b[1;32m   1014\u001b[0m     dialect,\n\u001b[1;32m   1015\u001b[0m     delimiter,\n\u001b[0;32m   (...)\u001b[0m\n\u001b[1;32m   1022\u001b[0m     dtype_backend\u001b[38;5;241m=\u001b[39mdtype_backend,\n\u001b[1;32m   1023\u001b[0m )\n\u001b[1;32m   1024\u001b[0m kwds\u001b[38;5;241m.\u001b[39mupdate(kwds_defaults)\n\u001b[0;32m-> 1026\u001b[0m \u001b[38;5;28;01mreturn\u001b[39;00m \u001b[43m_read\u001b[49m\u001b[43m(\u001b[49m\u001b[43mfilepath_or_buffer\u001b[49m\u001b[43m,\u001b[49m\u001b[43m \u001b[49m\u001b[43mkwds\u001b[49m\u001b[43m)\u001b[49m\n",
      "File \u001b[0;32m~/Documents/UC/AC/teste/lib/python3.13/site-packages/pandas/io/parsers/readers.py:620\u001b[0m, in \u001b[0;36m_read\u001b[0;34m(filepath_or_buffer, kwds)\u001b[0m\n\u001b[1;32m    617\u001b[0m _validate_names(kwds\u001b[38;5;241m.\u001b[39mget(\u001b[38;5;124m\"\u001b[39m\u001b[38;5;124mnames\u001b[39m\u001b[38;5;124m\"\u001b[39m, \u001b[38;5;28;01mNone\u001b[39;00m))\n\u001b[1;32m    619\u001b[0m \u001b[38;5;66;03m# Create the parser.\u001b[39;00m\n\u001b[0;32m--> 620\u001b[0m parser \u001b[38;5;241m=\u001b[39m \u001b[43mTextFileReader\u001b[49m\u001b[43m(\u001b[49m\u001b[43mfilepath_or_buffer\u001b[49m\u001b[43m,\u001b[49m\u001b[43m \u001b[49m\u001b[38;5;241;43m*\u001b[39;49m\u001b[38;5;241;43m*\u001b[39;49m\u001b[43mkwds\u001b[49m\u001b[43m)\u001b[49m\n\u001b[1;32m    622\u001b[0m \u001b[38;5;28;01mif\u001b[39;00m chunksize \u001b[38;5;129;01mor\u001b[39;00m iterator:\n\u001b[1;32m    623\u001b[0m     \u001b[38;5;28;01mreturn\u001b[39;00m parser\n",
      "File \u001b[0;32m~/Documents/UC/AC/teste/lib/python3.13/site-packages/pandas/io/parsers/readers.py:1620\u001b[0m, in \u001b[0;36mTextFileReader.__init__\u001b[0;34m(self, f, engine, **kwds)\u001b[0m\n\u001b[1;32m   1617\u001b[0m     \u001b[38;5;28mself\u001b[39m\u001b[38;5;241m.\u001b[39moptions[\u001b[38;5;124m\"\u001b[39m\u001b[38;5;124mhas_index_names\u001b[39m\u001b[38;5;124m\"\u001b[39m] \u001b[38;5;241m=\u001b[39m kwds[\u001b[38;5;124m\"\u001b[39m\u001b[38;5;124mhas_index_names\u001b[39m\u001b[38;5;124m\"\u001b[39m]\n\u001b[1;32m   1619\u001b[0m \u001b[38;5;28mself\u001b[39m\u001b[38;5;241m.\u001b[39mhandles: IOHandles \u001b[38;5;241m|\u001b[39m \u001b[38;5;28;01mNone\u001b[39;00m \u001b[38;5;241m=\u001b[39m \u001b[38;5;28;01mNone\u001b[39;00m\n\u001b[0;32m-> 1620\u001b[0m \u001b[38;5;28mself\u001b[39m\u001b[38;5;241m.\u001b[39m_engine \u001b[38;5;241m=\u001b[39m \u001b[38;5;28;43mself\u001b[39;49m\u001b[38;5;241;43m.\u001b[39;49m\u001b[43m_make_engine\u001b[49m\u001b[43m(\u001b[49m\u001b[43mf\u001b[49m\u001b[43m,\u001b[49m\u001b[43m \u001b[49m\u001b[38;5;28;43mself\u001b[39;49m\u001b[38;5;241;43m.\u001b[39;49m\u001b[43mengine\u001b[49m\u001b[43m)\u001b[49m\n",
      "File \u001b[0;32m~/Documents/UC/AC/teste/lib/python3.13/site-packages/pandas/io/parsers/readers.py:1880\u001b[0m, in \u001b[0;36mTextFileReader._make_engine\u001b[0;34m(self, f, engine)\u001b[0m\n\u001b[1;32m   1878\u001b[0m     \u001b[38;5;28;01mif\u001b[39;00m \u001b[38;5;124m\"\u001b[39m\u001b[38;5;124mb\u001b[39m\u001b[38;5;124m\"\u001b[39m \u001b[38;5;129;01mnot\u001b[39;00m \u001b[38;5;129;01min\u001b[39;00m mode:\n\u001b[1;32m   1879\u001b[0m         mode \u001b[38;5;241m+\u001b[39m\u001b[38;5;241m=\u001b[39m \u001b[38;5;124m\"\u001b[39m\u001b[38;5;124mb\u001b[39m\u001b[38;5;124m\"\u001b[39m\n\u001b[0;32m-> 1880\u001b[0m \u001b[38;5;28mself\u001b[39m\u001b[38;5;241m.\u001b[39mhandles \u001b[38;5;241m=\u001b[39m \u001b[43mget_handle\u001b[49m\u001b[43m(\u001b[49m\n\u001b[1;32m   1881\u001b[0m \u001b[43m    \u001b[49m\u001b[43mf\u001b[49m\u001b[43m,\u001b[49m\n\u001b[1;32m   1882\u001b[0m \u001b[43m    \u001b[49m\u001b[43mmode\u001b[49m\u001b[43m,\u001b[49m\n\u001b[1;32m   1883\u001b[0m \u001b[43m    \u001b[49m\u001b[43mencoding\u001b[49m\u001b[38;5;241;43m=\u001b[39;49m\u001b[38;5;28;43mself\u001b[39;49m\u001b[38;5;241;43m.\u001b[39;49m\u001b[43moptions\u001b[49m\u001b[38;5;241;43m.\u001b[39;49m\u001b[43mget\u001b[49m\u001b[43m(\u001b[49m\u001b[38;5;124;43m\"\u001b[39;49m\u001b[38;5;124;43mencoding\u001b[39;49m\u001b[38;5;124;43m\"\u001b[39;49m\u001b[43m,\u001b[49m\u001b[43m \u001b[49m\u001b[38;5;28;43;01mNone\u001b[39;49;00m\u001b[43m)\u001b[49m\u001b[43m,\u001b[49m\n\u001b[1;32m   1884\u001b[0m \u001b[43m    \u001b[49m\u001b[43mcompression\u001b[49m\u001b[38;5;241;43m=\u001b[39;49m\u001b[38;5;28;43mself\u001b[39;49m\u001b[38;5;241;43m.\u001b[39;49m\u001b[43moptions\u001b[49m\u001b[38;5;241;43m.\u001b[39;49m\u001b[43mget\u001b[49m\u001b[43m(\u001b[49m\u001b[38;5;124;43m\"\u001b[39;49m\u001b[38;5;124;43mcompression\u001b[39;49m\u001b[38;5;124;43m\"\u001b[39;49m\u001b[43m,\u001b[49m\u001b[43m \u001b[49m\u001b[38;5;28;43;01mNone\u001b[39;49;00m\u001b[43m)\u001b[49m\u001b[43m,\u001b[49m\n\u001b[1;32m   1885\u001b[0m \u001b[43m    \u001b[49m\u001b[43mmemory_map\u001b[49m\u001b[38;5;241;43m=\u001b[39;49m\u001b[38;5;28;43mself\u001b[39;49m\u001b[38;5;241;43m.\u001b[39;49m\u001b[43moptions\u001b[49m\u001b[38;5;241;43m.\u001b[39;49m\u001b[43mget\u001b[49m\u001b[43m(\u001b[49m\u001b[38;5;124;43m\"\u001b[39;49m\u001b[38;5;124;43mmemory_map\u001b[39;49m\u001b[38;5;124;43m\"\u001b[39;49m\u001b[43m,\u001b[49m\u001b[43m \u001b[49m\u001b[38;5;28;43;01mFalse\u001b[39;49;00m\u001b[43m)\u001b[49m\u001b[43m,\u001b[49m\n\u001b[1;32m   1886\u001b[0m \u001b[43m    \u001b[49m\u001b[43mis_text\u001b[49m\u001b[38;5;241;43m=\u001b[39;49m\u001b[43mis_text\u001b[49m\u001b[43m,\u001b[49m\n\u001b[1;32m   1887\u001b[0m \u001b[43m    \u001b[49m\u001b[43merrors\u001b[49m\u001b[38;5;241;43m=\u001b[39;49m\u001b[38;5;28;43mself\u001b[39;49m\u001b[38;5;241;43m.\u001b[39;49m\u001b[43moptions\u001b[49m\u001b[38;5;241;43m.\u001b[39;49m\u001b[43mget\u001b[49m\u001b[43m(\u001b[49m\u001b[38;5;124;43m\"\u001b[39;49m\u001b[38;5;124;43mencoding_errors\u001b[39;49m\u001b[38;5;124;43m\"\u001b[39;49m\u001b[43m,\u001b[49m\u001b[43m \u001b[49m\u001b[38;5;124;43m\"\u001b[39;49m\u001b[38;5;124;43mstrict\u001b[39;49m\u001b[38;5;124;43m\"\u001b[39;49m\u001b[43m)\u001b[49m\u001b[43m,\u001b[49m\n\u001b[1;32m   1888\u001b[0m \u001b[43m    \u001b[49m\u001b[43mstorage_options\u001b[49m\u001b[38;5;241;43m=\u001b[39;49m\u001b[38;5;28;43mself\u001b[39;49m\u001b[38;5;241;43m.\u001b[39;49m\u001b[43moptions\u001b[49m\u001b[38;5;241;43m.\u001b[39;49m\u001b[43mget\u001b[49m\u001b[43m(\u001b[49m\u001b[38;5;124;43m\"\u001b[39;49m\u001b[38;5;124;43mstorage_options\u001b[39;49m\u001b[38;5;124;43m\"\u001b[39;49m\u001b[43m,\u001b[49m\u001b[43m \u001b[49m\u001b[38;5;28;43;01mNone\u001b[39;49;00m\u001b[43m)\u001b[49m\u001b[43m,\u001b[49m\n\u001b[1;32m   1889\u001b[0m \u001b[43m\u001b[49m\u001b[43m)\u001b[49m\n\u001b[1;32m   1890\u001b[0m \u001b[38;5;28;01massert\u001b[39;00m \u001b[38;5;28mself\u001b[39m\u001b[38;5;241m.\u001b[39mhandles \u001b[38;5;129;01mis\u001b[39;00m \u001b[38;5;129;01mnot\u001b[39;00m \u001b[38;5;28;01mNone\u001b[39;00m\n\u001b[1;32m   1891\u001b[0m f \u001b[38;5;241m=\u001b[39m \u001b[38;5;28mself\u001b[39m\u001b[38;5;241m.\u001b[39mhandles\u001b[38;5;241m.\u001b[39mhandle\n",
      "File \u001b[0;32m~/Documents/UC/AC/teste/lib/python3.13/site-packages/pandas/io/common.py:873\u001b[0m, in \u001b[0;36mget_handle\u001b[0;34m(path_or_buf, mode, encoding, compression, memory_map, is_text, errors, storage_options)\u001b[0m\n\u001b[1;32m    868\u001b[0m \u001b[38;5;28;01melif\u001b[39;00m \u001b[38;5;28misinstance\u001b[39m(handle, \u001b[38;5;28mstr\u001b[39m):\n\u001b[1;32m    869\u001b[0m     \u001b[38;5;66;03m# Check whether the filename is to be opened in binary mode.\u001b[39;00m\n\u001b[1;32m    870\u001b[0m     \u001b[38;5;66;03m# Binary mode does not support 'encoding' and 'newline'.\u001b[39;00m\n\u001b[1;32m    871\u001b[0m     \u001b[38;5;28;01mif\u001b[39;00m ioargs\u001b[38;5;241m.\u001b[39mencoding \u001b[38;5;129;01mand\u001b[39;00m \u001b[38;5;124m\"\u001b[39m\u001b[38;5;124mb\u001b[39m\u001b[38;5;124m\"\u001b[39m \u001b[38;5;129;01mnot\u001b[39;00m \u001b[38;5;129;01min\u001b[39;00m ioargs\u001b[38;5;241m.\u001b[39mmode:\n\u001b[1;32m    872\u001b[0m         \u001b[38;5;66;03m# Encoding\u001b[39;00m\n\u001b[0;32m--> 873\u001b[0m         handle \u001b[38;5;241m=\u001b[39m \u001b[38;5;28;43mopen\u001b[39;49m\u001b[43m(\u001b[49m\n\u001b[1;32m    874\u001b[0m \u001b[43m            \u001b[49m\u001b[43mhandle\u001b[49m\u001b[43m,\u001b[49m\n\u001b[1;32m    875\u001b[0m \u001b[43m            \u001b[49m\u001b[43mioargs\u001b[49m\u001b[38;5;241;43m.\u001b[39;49m\u001b[43mmode\u001b[49m\u001b[43m,\u001b[49m\n\u001b[1;32m    876\u001b[0m \u001b[43m            \u001b[49m\u001b[43mencoding\u001b[49m\u001b[38;5;241;43m=\u001b[39;49m\u001b[43mioargs\u001b[49m\u001b[38;5;241;43m.\u001b[39;49m\u001b[43mencoding\u001b[49m\u001b[43m,\u001b[49m\n\u001b[1;32m    877\u001b[0m \u001b[43m            \u001b[49m\u001b[43merrors\u001b[49m\u001b[38;5;241;43m=\u001b[39;49m\u001b[43merrors\u001b[49m\u001b[43m,\u001b[49m\n\u001b[1;32m    878\u001b[0m \u001b[43m            \u001b[49m\u001b[43mnewline\u001b[49m\u001b[38;5;241;43m=\u001b[39;49m\u001b[38;5;124;43m\"\u001b[39;49m\u001b[38;5;124;43m\"\u001b[39;49m\u001b[43m,\u001b[49m\n\u001b[1;32m    879\u001b[0m \u001b[43m        \u001b[49m\u001b[43m)\u001b[49m\n\u001b[1;32m    880\u001b[0m     \u001b[38;5;28;01melse\u001b[39;00m:\n\u001b[1;32m    881\u001b[0m         \u001b[38;5;66;03m# Binary mode\u001b[39;00m\n\u001b[1;32m    882\u001b[0m         handle \u001b[38;5;241m=\u001b[39m \u001b[38;5;28mopen\u001b[39m(handle, ioargs\u001b[38;5;241m.\u001b[39mmode)\n",
      "\u001b[0;31mFileNotFoundError\u001b[0m: [Errno 2] No such file or directory: '/kaggle/input/airline-passenger-satisfaction/train.csv'"
     ]
    }
   ],
   "source": [
    "data = pd.read_csv(\"/kaggle/input/airline-passenger-satisfaction/train.csv\")"
   ]
  },
  {
   "cell_type": "markdown",
   "metadata": {},
   "source": [
    "Table dimensions:"
   ]
  },
  {
   "cell_type": "code",
   "execution_count": 4,
   "metadata": {
    "execution": {
     "iopub.execute_input": "2022-08-08T09:38:06.2016Z",
     "iopub.status.busy": "2022-08-08T09:38:06.200752Z",
     "iopub.status.idle": "2022-08-08T09:38:06.210009Z",
     "shell.execute_reply": "2022-08-08T09:38:06.209155Z",
     "shell.execute_reply.started": "2022-08-08T09:38:06.201554Z"
    },
    "trusted": true
   },
   "outputs": [
    {
     "ename": "NameError",
     "evalue": "name 'data' is not defined",
     "output_type": "error",
     "traceback": [
      "\u001b[0;31m---------------------------------------------------------------------------\u001b[0m",
      "\u001b[0;31mNameError\u001b[0m                                 Traceback (most recent call last)",
      "Cell \u001b[0;32mIn[4], line 1\u001b[0m\n\u001b[0;32m----> 1\u001b[0m \u001b[43mdata\u001b[49m\u001b[38;5;241m.\u001b[39mshape\n",
      "\u001b[0;31mNameError\u001b[0m: name 'data' is not defined"
     ]
    }
   ],
   "source": [
    "data.shape"
   ]
  },
  {
   "cell_type": "markdown",
   "metadata": {},
   "source": [
    "Each row corresponds to one passenger, and each column to a specific feature.<br>\n",
    "Let's look at the first and last rows of the data set:"
   ]
  },
  {
   "cell_type": "code",
   "execution_count": null,
   "metadata": {
    "execution": {
     "iopub.execute_input": "2022-08-08T09:38:07.612757Z",
     "iopub.status.busy": "2022-08-08T09:38:07.61225Z",
     "iopub.status.idle": "2022-08-08T09:38:07.653779Z",
     "shell.execute_reply": "2022-08-08T09:38:07.652888Z",
     "shell.execute_reply.started": "2022-08-08T09:38:07.612707Z"
    },
    "trusted": true
   },
   "outputs": [],
   "source": [
    "data.head()"
   ]
  },
  {
   "cell_type": "code",
   "execution_count": null,
   "metadata": {
    "execution": {
     "iopub.execute_input": "2022-08-08T09:38:08.084492Z",
     "iopub.status.busy": "2022-08-08T09:38:08.084051Z",
     "iopub.status.idle": "2022-08-08T09:38:08.108263Z",
     "shell.execute_reply": "2022-08-08T09:38:08.107611Z",
     "shell.execute_reply.started": "2022-08-08T09:38:08.084424Z"
    },
    "trusted": true
   },
   "outputs": [],
   "source": [
    "data.tail()"
   ]
  },
  {
   "cell_type": "markdown",
   "metadata": {},
   "source": [
    "Let's take a closer look at the dataset data:"
   ]
  },
  {
   "cell_type": "code",
   "execution_count": null,
   "metadata": {
    "execution": {
     "iopub.execute_input": "2022-08-08T09:38:09.026749Z",
     "iopub.status.busy": "2022-08-08T09:38:09.026253Z",
     "iopub.status.idle": "2022-08-08T09:38:09.081789Z",
     "shell.execute_reply": "2022-08-08T09:38:09.080852Z",
     "shell.execute_reply.started": "2022-08-08T09:38:09.026711Z"
    },
    "trusted": true
   },
   "outputs": [],
   "source": [
    "data.info()"
   ]
  },
  {
   "cell_type": "markdown",
   "metadata": {},
   "source": [
    "You may notice the following:\n",
    "<ol>\n",
    "     <li><b>The column</b> corresponding to the <b>Arrival Delay in Minutes feature has 310 missing values</b>.</li>\n",
    "     <li><b>The first two features are useless and will not affect the classification</b>, so you should get rid of them.</li>\n",
    "     <li><b>Many columns contain categorical values</b> but are of type 'object' or 'int64'. Let's replace this type with a special one designed for storing categorical values.</li>\n",
    "</ol>"
   ]
  },
  {
   "cell_type": "code",
   "execution_count": null,
   "metadata": {
    "execution": {
     "iopub.execute_input": "2022-08-08T09:38:09.904761Z",
     "iopub.status.busy": "2022-08-08T09:38:09.903756Z",
     "iopub.status.idle": "2022-08-08T09:38:09.932607Z",
     "shell.execute_reply": "2022-08-08T09:38:09.931497Z",
     "shell.execute_reply.started": "2022-08-08T09:38:09.904706Z"
    },
    "trusted": true
   },
   "outputs": [],
   "source": [
    "data = data.drop(data.iloc[:,[0, 1]], axis = 1)"
   ]
  },
  {
   "cell_type": "code",
   "execution_count": null,
   "metadata": {
    "execution": {
     "iopub.execute_input": "2022-08-08T09:38:11.724218Z",
     "iopub.status.busy": "2022-08-08T09:38:11.723929Z",
     "iopub.status.idle": "2022-08-08T09:38:11.851554Z",
     "shell.execute_reply": "2022-08-08T09:38:11.850589Z",
     "shell.execute_reply.started": "2022-08-08T09:38:11.724186Z"
    },
    "trusted": true
   },
   "outputs": [],
   "source": [
    "categorical_indexes = [0, 1, 3, 4] + list(range(6, 20))\n",
    "data.iloc[:,categorical_indexes] = data.iloc[:,categorical_indexes].astype('category')"
   ]
  },
  {
   "cell_type": "markdown",
   "metadata": {},
   "source": [
    "Now the dataset information looks like this:"
   ]
  },
  {
   "cell_type": "code",
   "execution_count": null,
   "metadata": {
    "execution": {
     "iopub.execute_input": "2022-08-08T09:38:13.111212Z",
     "iopub.status.busy": "2022-08-08T09:38:13.110901Z",
     "iopub.status.idle": "2022-08-08T09:38:13.14861Z",
     "shell.execute_reply": "2022-08-08T09:38:13.147774Z",
     "shell.execute_reply.started": "2022-08-08T09:38:13.111176Z"
    },
    "trusted": true
   },
   "outputs": [],
   "source": [
    "data.info()"
   ]
  },
  {
   "cell_type": "markdown",
   "metadata": {},
   "source": [
    "The first 22 features have been detailed above. The <b>satisfaction</b> feature is the target."
   ]
  },
  {
   "cell_type": "markdown",
   "metadata": {},
   "source": [
    "<div style=\"border-width:1; border-radius: 15px; border-style: solid; border-color: rgb(10, 10, 10); background-color: #52ab98; text-align: center;font: 14pt 'Candara';font-weight:bold;\"><h1>Data visualization and calculation of the main characteristics</h1></div>"
   ]
  },
  {
   "cell_type": "markdown",
   "metadata": {},
   "source": [
    "Get summary information about quantitative features by calling the \"describe\" method with default parameters:"
   ]
  },
  {
   "cell_type": "code",
   "execution_count": null,
   "metadata": {
    "execution": {
     "iopub.execute_input": "2022-08-08T09:38:15.054847Z",
     "iopub.status.busy": "2022-08-08T09:38:15.054338Z",
     "iopub.status.idle": "2022-08-08T09:38:15.107506Z",
     "shell.execute_reply": "2022-08-08T09:38:15.106522Z",
     "shell.execute_reply.started": "2022-08-08T09:38:15.054792Z"
    },
    "trusted": true
   },
   "outputs": [],
   "source": [
    "data.describe()"
   ]
  },
  {
   "cell_type": "markdown",
   "metadata": {},
   "source": [
    "For each quantitative attribute, mean values, standard deviation, minimum and maximum values, median and quartile values are given.\n",
    "\n",
    "Now we get information about categorical features:"
   ]
  },
  {
   "cell_type": "code",
   "execution_count": null,
   "metadata": {
    "execution": {
     "iopub.execute_input": "2022-08-08T09:38:16.13482Z",
     "iopub.status.busy": "2022-08-08T09:38:16.134314Z",
     "iopub.status.idle": "2022-08-08T09:38:16.203762Z",
     "shell.execute_reply": "2022-08-08T09:38:16.202846Z",
     "shell.execute_reply.started": "2022-08-08T09:38:16.134772Z"
    },
    "trusted": true
   },
   "outputs": [],
   "source": [
    "data.describe(include = ['category'])"
   ]
  },
  {
   "cell_type": "markdown",
   "metadata": {},
   "source": [
    "For each categorical feature, the total number of values, the number of unique values, the most frequently occurring element and the total number of such elements are given.\n",
    "\n",
    "Let's look at the ratio of the values of the target variable:"
   ]
  },
  {
   "cell_type": "code",
   "execution_count": null,
   "metadata": {
    "execution": {
     "iopub.execute_input": "2022-08-08T09:38:17.093502Z",
     "iopub.status.busy": "2022-08-08T09:38:17.092984Z",
     "iopub.status.idle": "2022-08-08T09:38:17.27726Z",
     "shell.execute_reply": "2022-08-08T09:38:17.276298Z",
     "shell.execute_reply.started": "2022-08-08T09:38:17.093452Z"
    },
    "trusted": true
   },
   "outputs": [],
   "source": [
    "plt.pie(data.satisfaction.value_counts(), labels = [\"Neutral or dissatisfied\", \"Satisfied\"], colors = sns.color_palette(\"YlOrBr\"), autopct = '%1.1f%%')\n",
    "pass"
   ]
  },
  {
   "cell_type": "markdown",
   "metadata": {},
   "source": [
    "As you can see from the pie chart, <b>the selection is more or less balanced</b>.\n",
    "\n",
    "Let's calculate the correlation matrix for quantitative features and use the visual image of this matrix:"
   ]
  },
  {
   "cell_type": "code",
   "execution_count": null,
   "metadata": {
    "execution": {
     "iopub.execute_input": "2022-08-08T09:38:17.987584Z",
     "iopub.status.busy": "2022-08-08T09:38:17.987223Z",
     "iopub.status.idle": "2022-08-08T09:38:18.01191Z",
     "shell.execute_reply": "2022-08-08T09:38:18.010942Z",
     "shell.execute_reply.started": "2022-08-08T09:38:17.987547Z"
    },
    "trusted": true
   },
   "outputs": [],
   "source": [
    "corr_mat = data.corr()\n",
    "corr_mat"
   ]
  },
  {
   "cell_type": "code",
   "execution_count": null,
   "metadata": {
    "execution": {
     "iopub.execute_input": "2022-08-08T09:38:18.408061Z",
     "iopub.status.busy": "2022-08-08T09:38:18.407177Z",
     "iopub.status.idle": "2022-08-08T09:38:18.678425Z",
     "shell.execute_reply": "2022-08-08T09:38:18.676813Z",
     "shell.execute_reply.started": "2022-08-08T09:38:18.408016Z"
    },
    "trusted": true
   },
   "outputs": [],
   "source": [
    "sns.heatmap(corr_mat, square = True, cmap = 'Blues')\n",
    "pass"
   ]
  },
  {
   "cell_type": "markdown",
   "metadata": {},
   "source": [
    "You can see that there is a strong correlation between the features <em>'Departure delay in minutes'</em> and <em>'Arrival delay in minutes'</em>. The value of the correlation coefficient reaches the following value:"
   ]
  },
  {
   "cell_type": "code",
   "execution_count": null,
   "metadata": {
    "execution": {
     "iopub.execute_input": "2022-08-08T09:38:19.149171Z",
     "iopub.status.busy": "2022-08-08T09:38:19.148051Z",
     "iopub.status.idle": "2022-08-08T09:38:19.161389Z",
     "shell.execute_reply": "2022-08-08T09:38:19.160426Z",
     "shell.execute_reply.started": "2022-08-08T09:38:19.149118Z"
    },
    "scrolled": true,
    "trusted": true
   },
   "outputs": [],
   "source": [
    "corr_mat.where(np.triu(corr_mat > 0.5, k=1)).stack().sort_values(ascending = False)"
   ]
  },
  {
   "cell_type": "markdown",
   "metadata": {},
   "source": [
    "Let's build a scatterplot for these features:"
   ]
  },
  {
   "cell_type": "code",
   "execution_count": null,
   "metadata": {
    "execution": {
     "iopub.execute_input": "2022-08-08T09:38:19.869649Z",
     "iopub.status.busy": "2022-08-08T09:38:19.869334Z",
     "iopub.status.idle": "2022-08-08T09:38:20.50303Z",
     "shell.execute_reply": "2022-08-08T09:38:20.502158Z",
     "shell.execute_reply.started": "2022-08-08T09:38:19.869612Z"
    },
    "trusted": true
   },
   "outputs": [],
   "source": [
    "plt.scatter(data['Arrival Delay in Minutes'], data['Departure Delay in Minutes'], alpha = 0.5)\n",
    "pass"
   ]
  },
  {
   "cell_type": "markdown",
   "metadata": {},
   "source": [
    "You can see that the points lined up more or less along a straight line going from the lower left corner to the upper right. Thus, in some approximation <b>the dependence of the arrival time delay on the departure time delay is linear</b>.\n",
    "\n",
    "The results obtained are quite logical and can be explained as follows. If the flight of the airline's customers was delayed by a certain amount of time at departure, then the flight will be delayed by about the same amount of time at landing (provided that the aircraft does not accelerate in flight to make up for lost time)."
   ]
  },
  {
   "cell_type": "markdown",
   "metadata": {},
   "source": [
    "Consider the ratio of values for each of the categorical features:"
   ]
  },
  {
   "cell_type": "code",
   "execution_count": null,
   "metadata": {
    "execution": {
     "iopub.execute_input": "2022-08-08T09:38:21.233432Z",
     "iopub.status.busy": "2022-08-08T09:38:21.232842Z",
     "iopub.status.idle": "2022-08-08T09:38:23.485593Z",
     "shell.execute_reply": "2022-08-08T09:38:23.484657Z",
     "shell.execute_reply.started": "2022-08-08T09:38:21.233383Z"
    },
    "trusted": true
   },
   "outputs": [],
   "source": [
    "categ = data.iloc[:,categorical_indexes]\n",
    "fig, axes = plt.subplots(6, 3, figsize = (20, 20))\n",
    "for i, col in enumerate(categ):\n",
    "    column_values = data[col].value_counts()\n",
    "    labels = column_values.index\n",
    "    sizes = column_values.values\n",
    "    axes[i//3, i%3].pie(sizes, labels = labels, colors = sns.color_palette(\"YlOrBr\"), autopct = '%1.0f%%', startangle = 90)\n",
    "    axes[i//3, i%3].axis('equal')\n",
    "    axes[i//3, i%3].set_title(col)\n",
    "plt.show()"
   ]
  },
  {
   "cell_type": "markdown",
   "metadata": {},
   "source": [
    "Some conclusions about the considered sample:\n",
    "<ul>\n",
    "    <li>The number of men and women in this sample is approximately the same</li>\n",
    "    <li>The vast majority of the airline's customers are repeat customers</li>\n",
    "    <li>Most of our clients flew for business rather than personal reasons</li>\n",
    "    <li>About half of the passengers were in business class</li>\n",
    "    <li>More than 60% of passengers were satisfied with the luggage transportation service (rated 4-5 out of 5)</li>\n",
    "    <li>More than 50% of passengers were comfortable sitting in their seats (rated 4-5 out of 5)</li>\n",
    "</ul>"
   ]
  },
  {
   "cell_type": "markdown",
   "metadata": {},
   "source": [
    "Now let's look at a few \"boxes with whiskers\" (box diagrams)."
   ]
  },
  {
   "cell_type": "code",
   "execution_count": null,
   "metadata": {
    "execution": {
     "iopub.execute_input": "2022-08-08T09:38:26.110929Z",
     "iopub.status.busy": "2022-08-08T09:38:26.110626Z",
     "iopub.status.idle": "2022-08-08T09:38:26.949033Z",
     "shell.execute_reply": "2022-08-08T09:38:26.948133Z",
     "shell.execute_reply.started": "2022-08-08T09:38:26.110888Z"
    },
    "trusted": true
   },
   "outputs": [],
   "source": [
    "f, ax = plt.subplots(1, 2, figsize = (15,5))\n",
    "sns.boxplot(x = \"Customer Type\", y = \"Age\", palette = \"YlOrBr\", data = data, ax = ax[0])\n",
    "sns.histplot(data, x = \"Age\", hue = \"Customer Type\", multiple = \"stack\", palette = \"YlOrBr\", edgecolor = \".3\", linewidth = .5, ax = ax[1])\n",
    "pass"
   ]
  },
  {
   "cell_type": "markdown",
   "metadata": {},
   "source": [
    "From this box diagram, we can conclude that <b>most of the airline's regular customers are between the ages of 30 and 50 (their average age is slightly over 40)</b>. The age range of non-regular customers is slightly smaller (from 25 to 40 years old, on average - a little less than 30)."
   ]
  },
  {
   "cell_type": "code",
   "execution_count": null,
   "metadata": {
    "execution": {
     "iopub.execute_input": "2022-08-08T09:38:26.951102Z",
     "iopub.status.busy": "2022-08-08T09:38:26.950746Z",
     "iopub.status.idle": "2022-08-08T09:38:28.130365Z",
     "shell.execute_reply": "2022-08-08T09:38:28.12955Z",
     "shell.execute_reply.started": "2022-08-08T09:38:26.951055Z"
    },
    "scrolled": true,
    "trusted": true
   },
   "outputs": [],
   "source": [
    "f, ax = plt.subplots(1, 2, figsize = (15,5))\n",
    "sns.boxplot(x = \"Class\", y = \"Age\", palette = \"YlOrBr\", data = data, ax = ax[0])\n",
    "sns.histplot(data, x = \"Age\", hue = \"Class\", multiple = \"stack\", palette = \"YlOrBr\", edgecolor = \".3\", linewidth = .5, ax = ax[1])\n",
    "pass"
   ]
  },
  {
   "cell_type": "markdown",
   "metadata": {},
   "source": [
    "It can be seen that, on average, the age range of those customers who travel in business class is the same (according to the previous box chart) as the age range of regular customers. Based on this observation, it can be assumed that <b>regular customers mainly buy business class for themselves</b>."
   ]
  },
  {
   "cell_type": "code",
   "execution_count": null,
   "metadata": {
    "execution": {
     "iopub.execute_input": "2022-08-08T09:38:28.132166Z",
     "iopub.status.busy": "2022-08-08T09:38:28.131921Z",
     "iopub.status.idle": "2022-08-08T09:38:29.268156Z",
     "shell.execute_reply": "2022-08-08T09:38:29.267259Z",
     "shell.execute_reply.started": "2022-08-08T09:38:28.132136Z"
    },
    "trusted": true
   },
   "outputs": [],
   "source": [
    "f, ax = plt.subplots(1, 2, figsize = (15,5))\n",
    "sns.boxplot(x = \"Class\", y = \"Flight Distance\", palette = \"YlOrBr\", data = data, ax = ax[0])\n",
    "sns.histplot(data, x = \"Flight Distance\", hue = \"Class\", multiple = \"stack\", palette = \"YlOrBr\", edgecolor = \".3\", linewidth = .5, ax = ax[1])\n",
    "pass"
   ]
  },
  {
   "cell_type": "markdown",
   "metadata": {},
   "source": [
    "From this box diagram, the following conclusion can be drawn: <b>customers whose flight distance is long, mostly fly in business class</b>."
   ]
  },
  {
   "cell_type": "code",
   "execution_count": null,
   "metadata": {
    "execution": {
     "iopub.execute_input": "2022-08-08T09:38:29.270373Z",
     "iopub.status.busy": "2022-08-08T09:38:29.269515Z",
     "iopub.status.idle": "2022-08-08T09:38:32.99126Z",
     "shell.execute_reply": "2022-08-08T09:38:32.990393Z",
     "shell.execute_reply.started": "2022-08-08T09:38:29.270323Z"
    },
    "trusted": true
   },
   "outputs": [],
   "source": [
    "f, ax = plt.subplots(2, 2, figsize = (15,8))\n",
    "sns.boxplot(x = \"Inflight entertainment\", y = \"Flight Distance\", palette = \"YlOrBr\", data = data, ax = ax[0, 0])\n",
    "sns.histplot(data, x = \"Flight Distance\", hue = \"Inflight entertainment\", multiple = \"stack\", palette = \"YlOrBr\", edgecolor = \".3\", linewidth = .5, ax = ax[0, 1])\n",
    "sns.boxplot(x = \"Leg room service\", y = \"Flight Distance\", palette = \"YlOrBr\", data = data, ax = ax[1, 0])\n",
    "sns.histplot(data, x = \"Flight Distance\", hue = \"Leg room service\", multiple = \"stack\", palette = \"YlOrBr\", edgecolor = \".3\", linewidth = .5, ax = ax[1, 1])\n",
    "pass"
   ]
  },
  {
   "cell_type": "markdown",
   "metadata": {},
   "source": [
    "The following pattern can be seen: <b>the more distance an aircraft passenger travels (respectively, the longer they are in flight), the more they are satisfied with the entertainment in flight and the extra legroom (on average)</b>."
   ]
  },
  {
   "cell_type": "markdown",
   "metadata": {},
   "source": [
    "Now consider the dependence graphs of some categorical features on the target - <em>satisfaction of air passengers</em>:"
   ]
  },
  {
   "cell_type": "code",
   "execution_count": null,
   "metadata": {
    "execution": {
     "iopub.execute_input": "2022-08-08T09:38:32.99321Z",
     "iopub.status.busy": "2022-08-08T09:38:32.99297Z",
     "iopub.status.idle": "2022-08-08T09:38:33.193115Z",
     "shell.execute_reply": "2022-08-08T09:38:33.192259Z",
     "shell.execute_reply.started": "2022-08-08T09:38:32.99318Z"
    },
    "scrolled": true,
    "trusted": true
   },
   "outputs": [],
   "source": [
    "sns.countplot(x = 'Class', hue = 'satisfaction', palette = \"YlOrBr\", data = data)\n",
    "plt.show()"
   ]
  },
  {
   "cell_type": "markdown",
   "metadata": {},
   "source": [
    "This chart is very revealing. You can see that <b>most of the passengers who flew in economy plus or economy class were dissatisfied with the flight, and those who were lucky enough to fly in business class were satisfied</b>."
   ]
  },
  {
   "cell_type": "code",
   "execution_count": null,
   "metadata": {
    "execution": {
     "iopub.execute_input": "2022-08-08T09:38:33.195587Z",
     "iopub.status.busy": "2022-08-08T09:38:33.194551Z",
     "iopub.status.idle": "2022-08-08T09:38:33.477794Z",
     "shell.execute_reply": "2022-08-08T09:38:33.476844Z",
     "shell.execute_reply.started": "2022-08-08T09:38:33.195535Z"
    },
    "scrolled": true,
    "trusted": true
   },
   "outputs": [],
   "source": [
    "sns.countplot(x = 'Inflight wifi service', hue = 'satisfaction', palette = \"YlOrBr\", data = data)\n",
    "plt.show()"
   ]
  },
  {
   "cell_type": "markdown",
   "metadata": {},
   "source": [
    "According to this graph, you can see that <b>almost all passengers who rated the wifi service 5 out of 5 points were satisfied with the flight</b>."
   ]
  },
  {
   "cell_type": "code",
   "execution_count": null,
   "metadata": {
    "execution": {
     "iopub.execute_input": "2022-08-08T09:38:33.479182Z",
     "iopub.status.busy": "2022-08-08T09:38:33.478927Z",
     "iopub.status.idle": "2022-08-08T09:38:33.983399Z",
     "shell.execute_reply": "2022-08-08T09:38:33.982527Z",
     "shell.execute_reply.started": "2022-08-08T09:38:33.479153Z"
    },
    "trusted": true
   },
   "outputs": [],
   "source": [
    "f, ax = plt.subplots(1, 2, figsize = (20,5))\n",
    "sns.countplot(x = 'Seat comfort', hue = 'satisfaction', palette = \"YlOrBr\", data = data,ax = ax[0])\n",
    "sns.countplot(x = 'Leg room service', hue = 'satisfaction', palette = \"YlOrBr\", data = data, ax = ax[1])\n",
    "plt.show()\n"
   ]
  },
  {
   "cell_type": "markdown",
   "metadata": {},
   "source": [
    "From the graphs above, we can conclude the following: <b>most passengers who rated the comfort of the seats and the extra legroom at 4 and 5 points out of 5 were satisfied with the flight</b>."
   ]
  },
  {
   "cell_type": "markdown",
   "metadata": {},
   "source": [
    "<div style=\"border-width:1; border-radius: 15px; border-style: solid; border-color: rgb(10, 10, 10); background-color: #52ab98; text-align: center;font: 14pt 'Candara';font-weight:bold;\"><h1>Filling in missing values</h1></div>"
   ]
  },
  {
   "cell_type": "markdown",
   "metadata": {},
   "source": [
    "Let's see how many missing values are in each column of the table:"
   ]
  },
  {
   "cell_type": "code",
   "execution_count": null,
   "metadata": {
    "execution": {
     "iopub.execute_input": "2022-08-08T09:38:37.512001Z",
     "iopub.status.busy": "2022-08-08T09:38:37.511223Z",
     "iopub.status.idle": "2022-08-08T09:38:37.532412Z",
     "shell.execute_reply": "2022-08-08T09:38:37.531605Z",
     "shell.execute_reply.started": "2022-08-08T09:38:37.51196Z"
    },
    "trusted": true
   },
   "outputs": [],
   "source": [
    "data.isna().sum()"
   ]
  },
  {
   "cell_type": "markdown",
   "metadata": {},
   "source": [
    "Fill in the missing values with <b>medians</b> in the columns corresponding to quantitative features:"
   ]
  },
  {
   "cell_type": "code",
   "execution_count": null,
   "metadata": {
    "execution": {
     "iopub.execute_input": "2022-08-08T09:38:38.321401Z",
     "iopub.status.busy": "2022-08-08T09:38:38.321092Z",
     "iopub.status.idle": "2022-08-08T09:38:38.328265Z",
     "shell.execute_reply": "2022-08-08T09:38:38.326773Z",
     "shell.execute_reply.started": "2022-08-08T09:38:38.321363Z"
    },
    "trusted": true
   },
   "outputs": [],
   "source": [
    "data['Arrival Delay in Minutes'].fillna(data['Arrival Delay in Minutes'].median(axis = 0), inplace = True)"
   ]
  },
  {
   "cell_type": "code",
   "execution_count": null,
   "metadata": {
    "execution": {
     "iopub.execute_input": "2022-08-08T09:38:38.718699Z",
     "iopub.status.busy": "2022-08-08T09:38:38.717883Z",
     "iopub.status.idle": "2022-08-08T09:38:38.737896Z",
     "shell.execute_reply": "2022-08-08T09:38:38.736976Z",
     "shell.execute_reply.started": "2022-08-08T09:38:38.718652Z"
    },
    "trusted": true
   },
   "outputs": [],
   "source": [
    "data.isna().sum()"
   ]
  },
  {
   "cell_type": "code",
   "execution_count": null,
   "metadata": {
    "execution": {
     "iopub.execute_input": "2022-08-08T09:38:39.184842Z",
     "iopub.status.busy": "2022-08-08T09:38:39.184558Z",
     "iopub.status.idle": "2022-08-08T09:38:39.222856Z",
     "shell.execute_reply": "2022-08-08T09:38:39.222252Z",
     "shell.execute_reply.started": "2022-08-08T09:38:39.18481Z"
    },
    "trusted": true
   },
   "outputs": [],
   "source": [
    "data.describe()"
   ]
  },
  {
   "cell_type": "markdown",
   "metadata": {},
   "source": [
    "This table shows that there are no more missing values."
   ]
  },
  {
   "cell_type": "markdown",
   "metadata": {},
   "source": [
    "<div style=\"border-width:1; border-radius: 15px; border-style: solid; border-color: rgb(10, 10, 10); background-color: #52ab98; text-align: center;font: 14pt 'Candara';font-weight:bold;\"><h1>Handling categorical features</h1></div>"
   ]
  },
  {
   "cell_type": "markdown",
   "metadata": {},
   "source": [
    "We divide the signs into quantitative and categorical:"
   ]
  },
  {
   "cell_type": "code",
   "execution_count": null,
   "metadata": {
    "execution": {
     "iopub.execute_input": "2022-08-08T09:40:14.035354Z",
     "iopub.status.busy": "2022-08-08T09:40:14.035005Z",
     "iopub.status.idle": "2022-08-08T09:40:14.095321Z",
     "shell.execute_reply": "2022-08-08T09:40:14.094325Z",
     "shell.execute_reply.started": "2022-08-08T09:40:14.035318Z"
    },
    "trusted": true
   },
   "outputs": [],
   "source": [
    "numerical_columns = [c for c in data.columns if data[c].dtype.name != 'category']\n",
    "numerical_columns.remove('satisfaction')\n",
    "categorical_columns = [c for c in data.columns if data[c].dtype.name == 'category']\n",
    "data_describe = data.describe(include = ['category'])"
   ]
  },
  {
   "cell_type": "markdown",
   "metadata": {},
   "source": [
    "We divide categorical features into binary and non-binary:"
   ]
  },
  {
   "cell_type": "code",
   "execution_count": null,
   "metadata": {
    "execution": {
     "iopub.execute_input": "2022-08-08T09:40:15.620218Z",
     "iopub.status.busy": "2022-08-08T09:40:15.619273Z",
     "iopub.status.idle": "2022-08-08T09:40:15.628704Z",
     "shell.execute_reply": "2022-08-08T09:40:15.627796Z",
     "shell.execute_reply.started": "2022-08-08T09:40:15.620161Z"
    },
    "trusted": true
   },
   "outputs": [],
   "source": [
    "binary_columns = [c for c in categorical_columns if data_describe[c]['unique'] == 2]\n",
    "nonbinary_columns = [c for c in categorical_columns if data_describe[c]['unique'] > 2]\n",
    "print(binary_columns, nonbinary_columns)"
   ]
  },
  {
   "cell_type": "markdown",
   "metadata": {},
   "source": [
    "Let's look at the unique values for each binary feature:"
   ]
  },
  {
   "cell_type": "code",
   "execution_count": null,
   "metadata": {
    "execution": {
     "iopub.execute_input": "2022-08-08T09:40:22.081292Z",
     "iopub.status.busy": "2022-08-08T09:40:22.080977Z",
     "iopub.status.idle": "2022-08-08T09:40:22.100359Z",
     "shell.execute_reply": "2022-08-08T09:40:22.099478Z",
     "shell.execute_reply.started": "2022-08-08T09:40:22.081255Z"
    },
    "trusted": true
   },
   "outputs": [],
   "source": [
    "for col in binary_columns:\n",
    "    print(col, ': ', end = '')\n",
    "    for uniq in data[col].unique():\n",
    "        if uniq == data[col].unique()[-1]:\n",
    "            print(uniq, end = '.')\n",
    "        else:\n",
    "            print(uniq, end = ', ')\n",
    "    print()"
   ]
  },
  {
   "cell_type": "markdown",
   "metadata": {},
   "source": [
    "Let's do the binarization:"
   ]
  },
  {
   "cell_type": "code",
   "execution_count": null,
   "metadata": {
    "execution": {
     "iopub.execute_input": "2022-08-08T09:40:52.464628Z",
     "iopub.status.busy": "2022-08-08T09:40:52.4643Z",
     "iopub.status.idle": "2022-08-08T09:40:52.473401Z",
     "shell.execute_reply": "2022-08-08T09:40:52.472722Z",
     "shell.execute_reply.started": "2022-08-08T09:40:52.46459Z"
    },
    "trusted": true
   },
   "outputs": [],
   "source": [
    "data[col] == uniq"
   ]
  },
  {
   "cell_type": "code",
   "execution_count": null,
   "metadata": {
    "execution": {
     "iopub.execute_input": "2022-08-08T10:05:08.702819Z",
     "iopub.status.busy": "2022-08-08T10:05:08.702448Z",
     "iopub.status.idle": "2022-08-08T10:05:08.863099Z",
     "shell.execute_reply": "2022-08-08T10:05:08.861647Z",
     "shell.execute_reply.started": "2022-08-08T10:05:08.702782Z"
    },
    "trusted": true
   },
   "outputs": [],
   "source": [
    "for col in binary_columns:\n",
    "    data[col] = data[col].astype('object')\n",
    "    k = 0\n",
    "    for uniq in data[col].unique():\n",
    "        data.at[data[col] == uniq, col] = k\n",
    "        k +=1 \n",
    "for col in binary_columns:\n",
    "    print(data[col].describe(), end = '\\n\\n')"
   ]
  },
  {
   "cell_type": "markdown",
   "metadata": {},
   "source": [
    "Now let's look at non-binary categorical features:"
   ]
  },
  {
   "cell_type": "code",
   "execution_count": null,
   "metadata": {
    "execution": {
     "iopub.execute_input": "2022-02-06T20:16:15.303279Z",
     "iopub.status.busy": "2022-02-06T20:16:15.302667Z",
     "iopub.status.idle": "2022-02-06T20:16:15.341159Z",
     "shell.execute_reply": "2022-02-06T20:16:15.340316Z",
     "shell.execute_reply.started": "2022-02-06T20:16:15.303236Z"
    },
    "trusted": true
   },
   "outputs": [],
   "source": [
    "data[nonbinary_columns]"
   ]
  },
  {
   "cell_type": "markdown",
   "metadata": {},
   "source": [
    "The following vectorization method is applicable to non-binary features:\n",
    "\n",
    "The feature j, which takes s values, will be replaced by s features, which take the values 0 or 1, depending on what the value of the original feature j is.\n",
    "\n",
    "This vectorization is carried out by the get_dummies method:"
   ]
  },
  {
   "cell_type": "code",
   "execution_count": null,
   "metadata": {
    "execution": {
     "iopub.execute_input": "2022-02-06T20:16:15.342698Z",
     "iopub.status.busy": "2022-02-06T20:16:15.342331Z",
     "iopub.status.idle": "2022-02-06T20:16:15.421427Z",
     "shell.execute_reply": "2022-02-06T20:16:15.420598Z",
     "shell.execute_reply.started": "2022-02-06T20:16:15.342655Z"
    },
    "trusted": true
   },
   "outputs": [],
   "source": [
    "data_nonbinary = pd.get_dummies(data[nonbinary_columns])\n",
    "print(data_nonbinary.columns)"
   ]
  },
  {
   "cell_type": "code",
   "execution_count": null,
   "metadata": {
    "execution": {
     "iopub.execute_input": "2022-02-06T20:16:15.422939Z",
     "iopub.status.busy": "2022-02-06T20:16:15.422699Z",
     "iopub.status.idle": "2022-02-06T20:16:15.429045Z",
     "shell.execute_reply": "2022-02-06T20:16:15.428219Z",
     "shell.execute_reply.started": "2022-02-06T20:16:15.42291Z"
    },
    "trusted": true
   },
   "outputs": [],
   "source": [
    "len(data_nonbinary.columns)"
   ]
  },
  {
   "cell_type": "markdown",
   "metadata": {},
   "source": [
    "<div style=\"border-width:1; border-radius: 15px; border-style: solid; border-color: rgb(10, 10, 10); background-color: #52ab98; text-align: center;font: 14pt 'Candara';font-weight:bold;\"><h1>Normalization of quantitative features</h1></div>"
   ]
  },
  {
   "cell_type": "markdown",
   "metadata": {},
   "source": [
    "We have the following quantitative characteristics:"
   ]
  },
  {
   "cell_type": "code",
   "execution_count": null,
   "metadata": {
    "execution": {
     "iopub.execute_input": "2022-02-06T20:16:15.430996Z",
     "iopub.status.busy": "2022-02-06T20:16:15.430766Z",
     "iopub.status.idle": "2022-02-06T20:16:15.474784Z",
     "shell.execute_reply": "2022-02-06T20:16:15.473975Z",
     "shell.execute_reply.started": "2022-02-06T20:16:15.430968Z"
    },
    "trusted": true
   },
   "outputs": [],
   "source": [
    "data_numerical = data[numerical_columns]\n",
    "data_numerical.describe()"
   ]
  },
  {
   "cell_type": "markdown",
   "metadata": {},
   "source": [
    "Let's perform a <b>standardization</b> (<em>linear transformation that reduces all values to zero mean and one standard deviation</em>) of all quantitative features:"
   ]
  },
  {
   "cell_type": "code",
   "execution_count": null,
   "metadata": {
    "execution": {
     "iopub.execute_input": "2022-02-06T20:16:15.47619Z",
     "iopub.status.busy": "2022-02-06T20:16:15.475977Z",
     "iopub.status.idle": "2022-02-06T20:16:15.487763Z",
     "shell.execute_reply": "2022-02-06T20:16:15.486929Z",
     "shell.execute_reply.started": "2022-02-06T20:16:15.476162Z"
    },
    "trusted": true
   },
   "outputs": [],
   "source": [
    "data_numerical = (data_numerical - data_numerical.mean(axis = 0))/data_numerical.std(axis = 0)"
   ]
  },
  {
   "cell_type": "code",
   "execution_count": null,
   "metadata": {
    "execution": {
     "iopub.execute_input": "2022-02-06T20:16:15.489167Z",
     "iopub.status.busy": "2022-02-06T20:16:15.488929Z",
     "iopub.status.idle": "2022-02-06T20:16:15.531879Z",
     "shell.execute_reply": "2022-02-06T20:16:15.531037Z",
     "shell.execute_reply.started": "2022-02-06T20:16:15.48914Z"
    },
    "trusted": true
   },
   "outputs": [],
   "source": [
    "data_numerical.describe()"
   ]
  },
  {
   "cell_type": "markdown",
   "metadata": {},
   "source": [
    "<div style=\"border-width:1; border-radius: 15px; border-style: solid; border-color: rgb(10, 10, 10); background-color: #52ab98; text-align: center;font: 14pt 'Candara';font-weight:bold;\"><h1>Table formation</h1></div>"
   ]
  },
  {
   "cell_type": "markdown",
   "metadata": {},
   "source": [
    "We join all the transformed columns into one table:"
   ]
  },
  {
   "cell_type": "code",
   "execution_count": null,
   "metadata": {
    "execution": {
     "iopub.execute_input": "2022-02-06T20:16:15.533243Z",
     "iopub.status.busy": "2022-02-06T20:16:15.533031Z",
     "iopub.status.idle": "2022-02-06T20:16:15.552968Z",
     "shell.execute_reply": "2022-02-06T20:16:15.552306Z",
     "shell.execute_reply.started": "2022-02-06T20:16:15.533217Z"
    },
    "trusted": true
   },
   "outputs": [],
   "source": [
    "target = data['satisfaction']\n",
    "data = pd.concat((data_numerical, data_nonbinary, data[binary_columns]), axis = 1)\n",
    "print(data.shape)"
   ]
  },
  {
   "cell_type": "markdown",
   "metadata": {},
   "source": [
    "Now it looks like this:"
   ]
  },
  {
   "cell_type": "code",
   "execution_count": null,
   "metadata": {
    "execution": {
     "iopub.execute_input": "2022-02-06T20:16:15.55409Z",
     "iopub.status.busy": "2022-02-06T20:16:15.553869Z",
     "iopub.status.idle": "2022-02-06T20:16:15.935473Z",
     "shell.execute_reply": "2022-02-06T20:16:15.934693Z",
     "shell.execute_reply.started": "2022-02-06T20:16:15.554062Z"
    },
    "trusted": true
   },
   "outputs": [],
   "source": [
    "data.describe()"
   ]
  },
  {
   "cell_type": "markdown",
   "metadata": {},
   "source": [
    "<div style=\"border-width:1; border-radius: 15px; border-style: solid; border-color: rgb(10, 10, 10); background-color: #52ab98; text-align: center;font: 14pt 'Candara';font-weight:bold;\"><h1>Splitting the data on training and test sets</h1></div>"
   ]
  },
  {
   "cell_type": "markdown",
   "metadata": {},
   "source": [
    "Get <b>X</b> and <b>y</b>:"
   ]
  },
  {
   "cell_type": "code",
   "execution_count": null,
   "metadata": {
    "execution": {
     "iopub.execute_input": "2022-02-06T20:16:15.937766Z",
     "iopub.status.busy": "2022-02-06T20:16:15.937265Z",
     "iopub.status.idle": "2022-02-06T20:16:15.944179Z",
     "shell.execute_reply": "2022-02-06T20:16:15.94333Z",
     "shell.execute_reply.started": "2022-02-06T20:16:15.93773Z"
    },
    "trusted": true
   },
   "outputs": [],
   "source": [
    "X = data\n",
    "y = target\n",
    "N, d = X.shape\n",
    "N, d"
   ]
  },
  {
   "cell_type": "code",
   "execution_count": null,
   "metadata": {
    "execution": {
     "iopub.execute_input": "2022-02-06T20:16:15.946306Z",
     "iopub.status.busy": "2022-02-06T20:16:15.946005Z",
     "iopub.status.idle": "2022-02-06T20:16:15.957579Z",
     "shell.execute_reply": "2022-02-06T20:16:15.956668Z",
     "shell.execute_reply.started": "2022-02-06T20:16:15.946265Z"
    },
    "trusted": true
   },
   "outputs": [],
   "source": [
    "X.columns"
   ]
  },
  {
   "cell_type": "code",
   "execution_count": null,
   "metadata": {
    "execution": {
     "iopub.execute_input": "2022-02-06T20:16:15.959129Z",
     "iopub.status.busy": "2022-02-06T20:16:15.958913Z",
     "iopub.status.idle": "2022-02-06T20:16:15.970524Z",
     "shell.execute_reply": "2022-02-06T20:16:15.969695Z",
     "shell.execute_reply.started": "2022-02-06T20:16:15.959101Z"
    },
    "trusted": true
   },
   "outputs": [],
   "source": [
    "y"
   ]
  },
  {
   "cell_type": "markdown",
   "metadata": {},
   "source": [
    "Let's split the data into training and test samples in a ratio of 9:1 <b>(90% - training sample, 10% - test)</b>:"
   ]
  },
  {
   "cell_type": "code",
   "execution_count": null,
   "metadata": {
    "execution": {
     "iopub.execute_input": "2022-02-06T20:16:15.972394Z",
     "iopub.status.busy": "2022-02-06T20:16:15.971869Z",
     "iopub.status.idle": "2022-02-06T20:16:16.062443Z",
     "shell.execute_reply": "2022-02-06T20:16:16.061595Z",
     "shell.execute_reply.started": "2022-02-06T20:16:15.972345Z"
    },
    "trusted": true
   },
   "outputs": [],
   "source": [
    "from sklearn.model_selection import train_test_split\n",
    "X_train, X_test, y_train, y_test = train_test_split(X, y, test_size = 0.1, random_state = 777)\n",
    "\n",
    "N_train, _ = X_train.shape \n",
    "N_test,  _ = X_test.shape \n",
    "\n",
    "N_train, N_test"
   ]
  },
  {
   "cell_type": "markdown",
   "metadata": {},
   "source": [
    "<div style=\"border-width:1; border-radius: 15px; border-style: solid; border-color: rgb(10, 10, 10); background-color: #52ab98; text-align: center;font: 14pt 'Candara';font-weight:bold;\"><h1>K-nearest neighbors (kNN) method</h1></div>"
   ]
  },
  {
   "cell_type": "markdown",
   "metadata": {},
   "source": [
    "Let's train and run kNN for the 10 number of neighbors:"
   ]
  },
  {
   "cell_type": "code",
   "execution_count": null,
   "metadata": {
    "execution": {
     "iopub.execute_input": "2022-02-06T20:16:16.064264Z",
     "iopub.status.busy": "2022-02-06T20:16:16.063961Z",
     "iopub.status.idle": "2022-02-06T20:16:56.742509Z",
     "shell.execute_reply": "2022-02-06T20:16:56.741621Z",
     "shell.execute_reply.started": "2022-02-06T20:16:16.064231Z"
    },
    "trusted": true
   },
   "outputs": [],
   "source": [
    "knn = KNeighborsClassifier()\n",
    "\n",
    "knn.set_params(n_neighbors = 10)\n",
    "knn.fit(X_train, y_train)\n",
    "\n",
    "err_train = np.mean(y_train != knn.predict(X_train))\n",
    "err_test  = np.mean(y_test  != knn.predict(X_test))\n",
    "\n",
    "print('Training sample error: ', err_train)\n",
    "print('Error on the test sample: ', err_test)"
   ]
  },
  {
   "cell_type": "markdown",
   "metadata": {},
   "source": [
    "<div style=\"border-width:1; border-radius: 15px; border-style: solid; border-color: rgb(10, 10, 10); background-color: #52ab98; text-align: center;font: 14pt 'Candara';font-weight:bold;\"><h1>SVC</h1></div>"
   ]
  },
  {
   "cell_type": "markdown",
   "metadata": {},
   "source": [
    "Let's train and run the support vector machine:"
   ]
  },
  {
   "cell_type": "code",
   "execution_count": null,
   "metadata": {
    "execution": {
     "iopub.execute_input": "2022-02-06T20:16:56.74439Z",
     "iopub.status.busy": "2022-02-06T20:16:56.744053Z",
     "iopub.status.idle": "2022-02-06T20:17:33.214011Z",
     "shell.execute_reply": "2022-02-06T20:17:33.213085Z",
     "shell.execute_reply.started": "2022-02-06T20:16:56.744346Z"
    },
    "trusted": true
   },
   "outputs": [],
   "source": [
    "svc = SVC(gamma = 'auto')\n",
    "svc.fit(X_train, y_train)\n",
    "\n",
    "err_train = np.mean(y_train != svc.predict(X_train))\n",
    "err_test  = np.mean(y_test  != svc.predict(X_test))\n",
    "\n",
    "print('Training sample error: ', err_train)\n",
    "print('Error on the test sample: ', err_test)"
   ]
  },
  {
   "cell_type": "markdown",
   "metadata": {},
   "source": [
    "<div style=\"border-width:1; border-radius: 15px; border-style: solid; border-color: rgb(10, 10, 10); background-color: #52ab98; text-align: center;font: 14pt 'Candara';font-weight:bold;\"><h1>Random Forest</h1></div>"
   ]
  },
  {
   "cell_type": "markdown",
   "metadata": {},
   "source": [
    "Train and run random forest:"
   ]
  },
  {
   "cell_type": "code",
   "execution_count": null,
   "metadata": {
    "execution": {
     "iopub.execute_input": "2022-02-06T20:17:33.215754Z",
     "iopub.status.busy": "2022-02-06T20:17:33.215418Z",
     "iopub.status.idle": "2022-02-06T20:17:45.612179Z",
     "shell.execute_reply": "2022-02-06T20:17:45.610719Z",
     "shell.execute_reply.started": "2022-02-06T20:17:33.21571Z"
    },
    "trusted": true
   },
   "outputs": [],
   "source": [
    "rf = ensemble.RandomForestClassifier(n_estimators = 100)\n",
    "rf.fit(X_train, y_train)\n",
    "\n",
    "err_train = np.mean(y_train != rf.predict(X_train))\n",
    "err_test  = np.mean(y_test  != rf.predict(X_test))\n",
    "\n",
    "print('Training sample error: ', err_train)\n",
    "print('Error on the test sample: ', err_test)"
   ]
  },
  {
   "cell_type": "markdown",
   "metadata": {},
   "source": [
    "<div style=\"border-width:1; border-radius: 15px; border-style: solid; border-color: rgb(10, 10, 10); background-color: #52ab98; text-align: center;font: 14pt 'Candara';font-weight:bold;\"><h1>Extremely Randomized Trees</h1></div>"
   ]
  },
  {
   "cell_type": "markdown",
   "metadata": {},
   "source": [
    "Train and run an extreme random forest:"
   ]
  },
  {
   "cell_type": "code",
   "execution_count": null,
   "metadata": {
    "execution": {
     "iopub.execute_input": "2022-02-06T20:17:45.613576Z",
     "iopub.status.busy": "2022-02-06T20:17:45.613365Z",
     "iopub.status.idle": "2022-02-06T20:18:10.645579Z",
     "shell.execute_reply": "2022-02-06T20:18:10.644109Z",
     "shell.execute_reply.started": "2022-02-06T20:17:45.613548Z"
    },
    "trusted": true
   },
   "outputs": [],
   "source": [
    "ert = ensemble.ExtraTreesClassifier(n_estimators = 100).fit(X_train, y_train)\n",
    "\n",
    "err_train = np.mean(y_train != ert.predict(X_train))\n",
    "err_test  = np.mean(y_test  != ert.predict(X_test))\n",
    "\n",
    "print('Training sample error: ', err_train)\n",
    "print('Error on the test sample: ', err_test)"
   ]
  },
  {
   "cell_type": "markdown",
   "metadata": {},
   "source": [
    "<div style=\"border-width:1; border-radius: 15px; border-style: solid; border-color: rgb(10, 10, 10); background-color: #52ab98; text-align: center;font: 14pt 'Candara';font-weight:bold;\"><h1>AdaBoost</h1></div>"
   ]
  },
  {
   "cell_type": "markdown",
   "metadata": {},
   "source": [
    "Let's train and run the AdaBoost algorithm:"
   ]
  },
  {
   "cell_type": "code",
   "execution_count": null,
   "metadata": {
    "execution": {
     "iopub.execute_input": "2022-02-06T20:18:10.649088Z",
     "iopub.status.busy": "2022-02-06T20:18:10.648676Z",
     "iopub.status.idle": "2022-02-06T20:22:23.331544Z",
     "shell.execute_reply": "2022-02-06T20:22:23.330229Z",
     "shell.execute_reply.started": "2022-02-06T20:18:10.649037Z"
    },
    "trusted": true
   },
   "outputs": [],
   "source": [
    "ada = ensemble.AdaBoostClassifier(n_estimators = 100)\n",
    "ada.fit(X_train, y_train)\n",
    "\n",
    "err_train = np.mean(y_train != ada.predict(X_train))\n",
    "err_test = np.mean(y_test != ada.predict(X_test))\n",
    "\n",
    "print('Training sample error: ', err_train)\n",
    "print('Error on the test sample: ', err_test)"
   ]
  },
  {
   "cell_type": "markdown",
   "metadata": {},
   "source": [
    "<div style=\"border-width:1; border-radius: 15px; border-style: solid; border-color: rgb(10, 10, 10); background-color: #52ab98; text-align: center;font: 14pt 'Candara';font-weight:bold;\"><h1>GBT</h1></div>"
   ]
  },
  {
   "cell_type": "markdown",
   "metadata": {},
   "source": [
    "Train and run gradient boosting decision trees:"
   ]
  },
  {
   "cell_type": "code",
   "execution_count": null,
   "metadata": {
    "execution": {
     "iopub.execute_input": "2022-02-06T20:22:23.33474Z",
     "iopub.status.busy": "2022-02-06T20:22:23.334373Z",
     "iopub.status.idle": "2022-02-06T20:22:55.90948Z",
     "shell.execute_reply": "2022-02-06T20:22:55.908782Z",
     "shell.execute_reply.started": "2022-02-06T20:22:23.334694Z"
    },
    "trusted": true
   },
   "outputs": [],
   "source": [
    "gbt = ensemble.GradientBoostingClassifier(n_estimators = 100)\n",
    "gbt.fit(X_train, y_train)\n",
    "\n",
    "err_train = np.mean(y_train != gbt.predict(X_train))\n",
    "err_test = np.mean(y_test != gbt.predict(X_test))\n",
    "\n",
    "print('Training sample error: ', err_train)\n",
    "print('Error on the test sample: ', err_test)"
   ]
  },
  {
   "cell_type": "markdown",
   "metadata": {},
   "source": [
    "<div style=\"border-width:1; border-radius: 15px; border-style: solid; border-color: rgb(10, 10, 10); background-color: #52ab98; text-align: center;font: 14pt 'Candara';font-weight:bold;\"><h1>General conclusions</h1></div>"
   ]
  },
  {
   "cell_type": "markdown",
   "metadata": {},
   "source": [
    "***\n",
    "<b>Conclusions about the considered sample</b>:\n",
    "\n",
    "> <ul>\n",
    "> <li>The sample is more or less balanced <em>(56.7% on 43.3%)</em>.</li>\n",
    "> <li>The number of men and women in this sample is approximately the same.</li>\n",
    "> <li>The vast majority of the airline's customers are repeat customers.</li>\n",
    "> <li>Most of our clients flew for business rather than personal reasons.</li>\n",
    "> <li>About half of the passengers were in business class.</li>\n",
    "> <li>More than 60% of passengers were satisfied with the luggage transportation service (rating 4-5 out of 5).</li>\n",
    "> <li>More than 50% of passengers were comfortable sitting in their seats (rated 4-5 out of 5).</li>\n",
    "> <li>There was a strong correlation <em>(96%)</em> between the features 'Departure delay in minutes' and 'Arrival delay in minutes' (which is quite logical and was discussed in detail above).</li>\n",
    "> <li>Most of the airline's regular customers are between the ages of 30 and 50 (averaging a little over 40). The age range for non-regular customers is slightly smaller (from 25 to 40 years old, with an average of slightly less than 30).</li>\n",
    "> <li>Customers whose flight distance is long tend to fly in business class.</li>\n",
    "> <li>The more distance an airplane passenger travels (respectively, the longer they are in flight), the more satisfied they are with in-flight entertainment and extra legroom (on average).</li>\n",
    "> <li>Most of the passengers who flew in Economy Plus or Economy Class were dissatisfied with the flight, and those who were lucky enough to fly in Business Class were satisfied.</li>\n",
    "> <li>Almost all passengers who rated the wifi service 5 out of 5 were satisfied with the flight.</li>\n",
    "> <li>The majority of passengers who rated the comfort of the seats and the extra legroom at 4 and 5 points out of 5 were satisfied with the flight.\n",
    "> </ul>\n",
    "\n",
    "***\n",
    "<b>Conclusions on classification results</b>:\n",
    "\n",
    "> <ul>\n",
    "> <li>For the kNN method, the error on the training set was <em>5.2%</em>, and on the test set it was <em>6.5%</em>.</li>\n",
    "> <li>For the support vector machine, the error on both the training and test sets was <em>5%</em>.</li>\n",
    "> <li>For the Random Forest and Extreme Random Forest classifiers, the error on the training set was not observed, but on the test set it was <em>3.9%</em>.</li>\n",
    "> <li>For the AdaBoost algorithm, the error on the training set was <em>7%</em>, and on the test set it was <em>7.2%</em>.</li>\n",
    "> <li>For gradient boosted decision trees, the error on the training and test samples was <em>5.5% and 5.6%</em> respectively.</li>\n",
    "> <li>The classifiers Random and Extremely Random Forest showed the best result (the error on the test sample is <em>3.9%).</em></li>\n",
    "</ul>\n",
    "\n",
    "***"
   ]
  },
  {
   "cell_type": "markdown",
   "metadata": {},
   "source": [
    "<div style=\"border-width:1; border-radius: 15px; border-style: solid; border-color: rgb(10, 10, 10); background-color: #52ab98; text-align: center;font: 14pt 'Candara';font-weight:bold;\"><h1>Link to the second part</h1></div>"
   ]
  },
  {
   "cell_type": "markdown",
   "metadata": {},
   "source": [
    "<div style=\"text-align: center;font: 14pt 'Candara';font-weight:bold;\"><h3><a href=\"https://www.kaggle.com/code/frixinglife/airline-passenger-satisfaction-part-2\">Airline Passenger Satisfaction (Part 2)</a></h3></div>"
   ]
  }
 ],
 "metadata": {
  "kaggle": {
   "accelerator": "none",
   "dataSources": [
    {
     "datasetId": 522275,
     "sourceId": 959195,
     "sourceType": "datasetVersion"
    }
   ],
   "dockerImageVersionId": 30157,
   "isGpuEnabled": false,
   "isInternetEnabled": false,
   "language": "python",
   "sourceType": "notebook"
  },
  "kernelspec": {
   "display_name": "teste",
   "language": "python",
   "name": "python3"
  },
  "language_info": {
   "codemirror_mode": {
    "name": "ipython",
    "version": 3
   },
   "file_extension": ".py",
   "mimetype": "text/x-python",
   "name": "python",
   "nbconvert_exporter": "python",
   "pygments_lexer": "ipython3",
   "version": "3.13.2"
  }
 },
 "nbformat": 4,
 "nbformat_minor": 4
}
