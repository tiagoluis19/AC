{
 "cells": [
  {
   "cell_type": "markdown",
   "metadata": {
    "id": "vdQBcMRS8DWr"
   },
   "source": [
    "**Practice 4 - Clustering**\n",
    "\n",
    "**Machine Learning – LECD, LEEC**\n",
    "\n",
    "**Informatics Engineering Department**"
   ]
  },
  {
   "cell_type": "markdown",
   "metadata": {
    "id": "4hokhqn58Pe-"
   },
   "source": [
    "Consider the folowing four datasets:\n",
    "\n",
    "- `Aggregation`: A. Gionis, H. Mannila, and P. Tsaparas, Clustering aggregation. ACM Transactions on Knowledge Discovery from Data (TKDD), 2007. 1(1): p. 1-30.\n",
    "- `Compound`: C.T. Zahn, Graph-theoretical methods for detecting and describing gestalt clusters. IEEE Transactions on Computers, 1971. 100(1): p. 68-86.\n",
    "- `R15`: C.J. Veenman, M.J.T. Reinders, and E. Backer, A maximum variance cluster algorithm. IEEE Trans. Pattern Analysis and Machine Intelligence, 2002. 24(9): p. 1273-1280.\n",
    "- `Spiral`: H. Chang and D.Y. Yeung, Robust path-based spectral clustering. Pattern Recognition, 2008. 41(1): p. 191-203.\n",
    "\n",
    "They are composed by matrixes of several rows and three columns: the first two correspond to the xy-coordinates of the point, and the thrid correspond to the index of the cluster they bellong to (ranging from `0` to `nclusters-1`). Each dataset have a different number of rows and clusters.\n"
   ]
  },
  {
   "cell_type": "markdown",
   "metadata": {
    "id": "BJKNZ9nV8f6c"
   },
   "source": [
    "### Exercise 1\n",
    "\n",
    "Load the datasets into memory and extract, for each dataset, the number of true clusters in the data. You should populate de datasets and nclusters arrays so they end up with four cells, one for each dataset, with the dataframes (shape=[nsamples, d=2] and the number of clusters, respectively. Then, create a figure with four scatter plots showing the spatial distribution of the points in each dataset. \n",
    "\n",
    "You might find useful the following functions: iloc, from pandas; subplots, scatter and set_title from matplotlib's pyplot. The final result should be similar to the following image:\n",
    "\n",
    "![scatters](https://www.dropbox.com/s/h7xf9mlm2dwp158/cluster_scatters.png?dl=1)"
   ]
  },
  {
   "cell_type": "code",
   "execution_count": 1,
   "metadata": {
    "id": "Cqv1p8sy76P7"
   },
   "outputs": [
    {
     "ename": "_IncompleteInputError",
     "evalue": "incomplete input (1988531157.py, line 27)",
     "output_type": "error",
     "traceback": [
      "\u001b[0;36m  Cell \u001b[0;32mIn[1], line 27\u001b[0;36m\u001b[0m\n\u001b[0;31m    \u001b[0m\n\u001b[0m    ^\u001b[0m\n\u001b[0;31m_IncompleteInputError\u001b[0m\u001b[0;31m:\u001b[0m incomplete input\n"
     ]
    }
   ],
   "source": [
    "import pandas as pd\n",
    "import numpy as np\n",
    "from matplotlib import pyplot as plt\n",
    "... # TODO add extra imports if needed\n",
    "\n",
    "# load data\n",
    "N_DATASETS = 4\n",
    "\n",
    "dataset_names = ['Aggregation', 'Compound', 'R15', 'Spiral']\n",
    "datasets = []\n",
    "nclusters = []\n",
    "\n",
    "# Load datasets data and plot them into as scatter plots in a 2x2 figure of subplots\n",
    "fig, axes = plt.subplots(2,2, figsize=[10,10])\n",
    "\n",
    "axs = axes.flatten()\n",
    "f = 0\n",
    "for dsname in dataset_names:\n",
    "  # TODO add code here (check ds.iloc)\n",
    "  #ds = pd.read_csv(...\n",
    "  #datasets.append(...)\n",
    "  #true_labels = ...\n",
    "  #nclusters.append(...\n",
    "  #axs[f].scatter(...\n",
    "  #axs[f].set_title(...\n",
    "  #f += ...\n",
    "  \n"
   ]
  },
  {
   "cell_type": "markdown",
   "metadata": {
    "id": "9z2a12wK78Aa"
   },
   "source": [
    "### Exercise 2\n",
    "Run the kmeans function 10 times in each dataset. Compute and report the average and standard deviation of the number of iterations taken by the algorithm. Comment your results.\n",
    "\n",
    "**Results should be similar to:**\n",
    "\n",
    "Dataset: Aggregation, Iterations: 13.50 (3.91)\n",
    "\n",
    "Dataset: Compound, Iterations: 10.20 (3.22)\n",
    "\n",
    "Dataset: R15, Iterations: 12.90 (3.42)\n",
    "\n",
    "Dataset: Spiral, Iterations: 17.60 (4.36)\n",
    "\n"
   ]
  },
  {
   "cell_type": "code",
   "execution_count": null,
   "metadata": {
    "id": "LjRYOjXf8CIS"
   },
   "outputs": [],
   "source": [
    "# TODO Write your code here\n",
    "\n",
    "NREPS = 10\n",
    "#for ds in range(len(datasets)):"
   ]
  },
  {
   "cell_type": "markdown",
   "metadata": {
    "id": "rKM4Ifd1FfJA"
   },
   "source": [
    "### Exercise 3\n",
    "\n",
    "Plot the cluster centers ontop of the datasets, like this:\n",
    "\n",
    "\n",
    "![scatters](https://www.dropbox.com/s/4gixm9e34xggk33/clusters_centers.png?dl=1)\n"
   ]
  },
  {
   "cell_type": "code",
   "execution_count": null,
   "metadata": {
    "id": "qLgAiIokFchW"
   },
   "outputs": [],
   "source": [
    "# TODO Write your code here\n",
    "\n",
    "fig, axes = plt.subplots(2,2, figsize=[10,10])\n",
    "randomness = 10\n",
    "axs = axes.flatten()\n",
    "\n",
    "#for ds in range(len(datasets)):"
   ]
  },
  {
   "cell_type": "markdown",
   "metadata": {
    "id": "itnp_0YMGSdc"
   },
   "source": [
    "### Exercise 4\n",
    "\n",
    "COMMENT ON THE RESULTS:\n",
    "\n"
   ]
  },
  {
   "cell_type": "markdown",
   "metadata": {
    "id": "aGM8W7HRGetO"
   },
   "source": [
    "### Exercise 5\n",
    "\n",
    "Use the DBSCAN method from the sklearn.cluster module to cluster de data. Try different values of eps and min_samples. Visualize the results.\n",
    "\n",
    "Discuss the following points:\n",
    "\n",
    "- In what way does the eps value influence the result of the algorithm? Does the same value work well for all datasets or it should be tuned for each dataset?\n",
    "\n",
    "- In what way does the min_samples value influence the result of the algorithm? Does the same value work well for all datasets or it should be tuned for each dataset?\n",
    "\n",
    "- Comment de differences in the results obtained by DBSCAN and kmeans."
   ]
  },
  {
   "cell_type": "code",
   "execution_count": null,
   "metadata": {
    "id": "0DC_QAxvGdOD"
   },
   "outputs": [],
   "source": [
    "# TODO Write your code here\n"
   ]
  }
 ],
 "metadata": {
  "colab": {
   "provenance": []
  },
  "kernelspec": {
   "display_name": "teste",
   "language": "python",
   "name": "python3"
  },
  "language_info": {
   "codemirror_mode": {
    "name": "ipython",
    "version": 3
   },
   "file_extension": ".py",
   "mimetype": "text/x-python",
   "name": "python",
   "nbconvert_exporter": "python",
   "pygments_lexer": "ipython3",
   "version": "3.13.2"
  }
 },
 "nbformat": 4,
 "nbformat_minor": 4
}
